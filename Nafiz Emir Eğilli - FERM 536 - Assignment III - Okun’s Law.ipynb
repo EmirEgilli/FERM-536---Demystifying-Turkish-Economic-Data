{
 "cells": [
  {
   "cell_type": "markdown",
   "id": "9a7b6168",
   "metadata": {},
   "source": [
    "# Nafiz Emir Eğilli - FERM 536 - Assignment III - Okun’s Law"
   ]
  },
  {
   "cell_type": "code",
   "execution_count": 1,
   "id": "64981d80-8c58-4fc6-b4a0-98284acd0fda",
   "metadata": {},
   "outputs": [
    {
     "name": "stderr",
     "output_type": "stream",
     "text": [
      "C:\\Users\\emir.e\\Anaconda3\\lib\\site-packages\\scipy\\__init__.py:177: UserWarning: A NumPy version >=1.18.5 and <1.26.0 is required for this version of SciPy (detected version 1.26.3\n",
      "  warnings.warn(f\"A NumPy version >={np_minversion} and <{np_maxversion}\"\n"
     ]
    }
   ],
   "source": [
    "import pandas as pd\n",
    "import statsmodels.api as sm\n",
    "import numpy as np\n",
    "import matplotlib.pyplot as plt\n",
    "import seaborn as sns\n",
    "from statsmodels.graphics.tsaplots import plot_acf\n",
    "\n",
    "import warnings\n",
    "warnings.filterwarnings(\"ignore\")"
   ]
  },
  {
   "cell_type": "markdown",
   "id": "1ab81536",
   "metadata": {},
   "source": [
    "## Q3A-) Estimate the QoQchange in seasonally adjusted unemployment rate (UR) on corresponding seasonally adjusted real GDP growth rate (%QoQ)"
   ]
  },
  {
   "cell_type": "code",
   "execution_count": 2,
   "id": "d207c033",
   "metadata": {},
   "outputs": [
    {
     "data": {
      "text/html": [
       "<div>\n",
       "<style scoped>\n",
       "    .dataframe tbody tr th:only-of-type {\n",
       "        vertical-align: middle;\n",
       "    }\n",
       "\n",
       "    .dataframe tbody tr th {\n",
       "        vertical-align: top;\n",
       "    }\n",
       "\n",
       "    .dataframe thead th {\n",
       "        text-align: right;\n",
       "    }\n",
       "</style>\n",
       "<table border=\"1\" class=\"dataframe\">\n",
       "  <thead>\n",
       "    <tr style=\"text-align: right;\">\n",
       "      <th></th>\n",
       "      <th>quarter</th>\n",
       "      <th>Gayrisafi yurt içi hasıla (alıcı fiyatlarıyla)</th>\n",
       "      <th>Unemployment rate</th>\n",
       "    </tr>\n",
       "  </thead>\n",
       "  <tbody>\n",
       "    <tr>\n",
       "      <th>0</th>\n",
       "      <td>1998-03-01</td>\n",
       "      <td>71.633277</td>\n",
       "      <td>NaN</td>\n",
       "    </tr>\n",
       "    <tr>\n",
       "      <th>1</th>\n",
       "      <td>1998-06-01</td>\n",
       "      <td>71.062687</td>\n",
       "      <td>NaN</td>\n",
       "    </tr>\n",
       "    <tr>\n",
       "      <th>2</th>\n",
       "      <td>1998-09-01</td>\n",
       "      <td>70.062782</td>\n",
       "      <td>NaN</td>\n",
       "    </tr>\n",
       "    <tr>\n",
       "      <th>3</th>\n",
       "      <td>1998-12-01</td>\n",
       "      <td>69.881538</td>\n",
       "      <td>NaN</td>\n",
       "    </tr>\n",
       "    <tr>\n",
       "      <th>4</th>\n",
       "      <td>1999-03-01</td>\n",
       "      <td>68.703461</td>\n",
       "      <td>NaN</td>\n",
       "    </tr>\n",
       "  </tbody>\n",
       "</table>\n",
       "</div>"
      ],
      "text/plain": [
       "      quarter  Gayrisafi yurt içi hasıla (alıcı fiyatlarıyla)  \\\n",
       "0  1998-03-01                                       71.633277   \n",
       "1  1998-06-01                                       71.062687   \n",
       "2  1998-09-01                                       70.062782   \n",
       "3  1998-12-01                                       69.881538   \n",
       "4  1999-03-01                                       68.703461   \n",
       "\n",
       "   Unemployment rate  \n",
       "0                NaN  \n",
       "1                NaN  \n",
       "2                NaN  \n",
       "3                NaN  \n",
       "4                NaN  "
      ]
     },
     "execution_count": 2,
     "metadata": {},
     "output_type": "execute_result"
    }
   ],
   "source": [
    "okuns_law_df = pd.read_csv('okuns_law.csv')\n",
    "okuns_law_df.head()"
   ]
  },
  {
   "cell_type": "code",
   "execution_count": 3,
   "id": "bca10f6b",
   "metadata": {},
   "outputs": [
    {
     "data": {
      "text/html": [
       "<div>\n",
       "<style scoped>\n",
       "    .dataframe tbody tr th:only-of-type {\n",
       "        vertical-align: middle;\n",
       "    }\n",
       "\n",
       "    .dataframe tbody tr th {\n",
       "        vertical-align: top;\n",
       "    }\n",
       "\n",
       "    .dataframe thead th {\n",
       "        text-align: right;\n",
       "    }\n",
       "</style>\n",
       "<table border=\"1\" class=\"dataframe\">\n",
       "  <thead>\n",
       "    <tr style=\"text-align: right;\">\n",
       "      <th></th>\n",
       "      <th>quarter</th>\n",
       "      <th>Gayrisafi yurt içi hasıla (alıcı fiyatlarıyla)</th>\n",
       "      <th>Unemployment rate</th>\n",
       "      <th>GSYİH_%QoQ</th>\n",
       "      <th>UR_QoQchange</th>\n",
       "    </tr>\n",
       "  </thead>\n",
       "  <tbody>\n",
       "    <tr>\n",
       "      <th>28</th>\n",
       "      <td>2005-03-01</td>\n",
       "      <td>91.041903</td>\n",
       "      <td>17.2</td>\n",
       "      <td>NaN</td>\n",
       "      <td>NaN</td>\n",
       "    </tr>\n",
       "    <tr>\n",
       "      <th>29</th>\n",
       "      <td>2005-06-01</td>\n",
       "      <td>91.426245</td>\n",
       "      <td>17.4</td>\n",
       "      <td>0.422159</td>\n",
       "      <td>0.2</td>\n",
       "    </tr>\n",
       "    <tr>\n",
       "      <th>30</th>\n",
       "      <td>2005-09-01</td>\n",
       "      <td>92.717157</td>\n",
       "      <td>17.0</td>\n",
       "      <td>1.411971</td>\n",
       "      <td>-0.4</td>\n",
       "    </tr>\n",
       "    <tr>\n",
       "      <th>31</th>\n",
       "      <td>2005-12-01</td>\n",
       "      <td>95.783132</td>\n",
       "      <td>16.7</td>\n",
       "      <td>3.306804</td>\n",
       "      <td>-0.3</td>\n",
       "    </tr>\n",
       "    <tr>\n",
       "      <th>32</th>\n",
       "      <td>2006-03-01</td>\n",
       "      <td>96.879976</td>\n",
       "      <td>16.7</td>\n",
       "      <td>1.145133</td>\n",
       "      <td>0.0</td>\n",
       "    </tr>\n",
       "  </tbody>\n",
       "</table>\n",
       "</div>"
      ],
      "text/plain": [
       "       quarter  Gayrisafi yurt içi hasıla (alıcı fiyatlarıyla)  \\\n",
       "28  2005-03-01                                       91.041903   \n",
       "29  2005-06-01                                       91.426245   \n",
       "30  2005-09-01                                       92.717157   \n",
       "31  2005-12-01                                       95.783132   \n",
       "32  2006-03-01                                       96.879976   \n",
       "\n",
       "    Unemployment rate  GSYİH_%QoQ  UR_QoQchange  \n",
       "28               17.2         NaN           NaN  \n",
       "29               17.4    0.422159           0.2  \n",
       "30               17.0    1.411971          -0.4  \n",
       "31               16.7    3.306804          -0.3  \n",
       "32               16.7    1.145133           0.0  "
      ]
     },
     "execution_count": 3,
     "metadata": {},
     "output_type": "execute_result"
    }
   ],
   "source": [
    "okuns_law_cleaned_df = okuns_law_df.dropna()\n",
    "okuns_law_cleaned_df['GSYİH_%QoQ'] = okuns_law_cleaned_df['Gayrisafi yurt içi hasıla (alıcı fiyatlarıyla)'].pct_change() * 100\n",
    "okuns_law_cleaned_df['UR_QoQchange'] = okuns_law_cleaned_df['Unemployment rate'].diff()\n",
    "okuns_law_cleaned_df.head()"
   ]
  },
  {
   "cell_type": "code",
   "execution_count": 4,
   "id": "ef0ec709",
   "metadata": {},
   "outputs": [
    {
     "name": "stdout",
     "output_type": "stream",
     "text": [
      "                            OLS Regression Results                            \n",
      "==============================================================================\n",
      "Dep. Variable:           UR_QoQchange   R-squared:                       0.087\n",
      "Model:                            OLS   Adj. R-squared:                  0.074\n",
      "Method:                 Least Squares   F-statistic:                     6.940\n",
      "Date:                Tue, 12 Mar 2024   Prob (F-statistic):             0.0103\n",
      "Time:                        11:07:24   Log-Likelihood:                -105.17\n",
      "No. Observations:                  75   AIC:                             214.3\n",
      "Df Residuals:                      73   BIC:                             219.0\n",
      "Df Model:                           1                                         \n",
      "Covariance Type:            nonrobust                                         \n",
      "==============================================================================\n",
      "                 coef    std err          t      P>|t|      [0.025      0.975]\n",
      "------------------------------------------------------------------------------\n",
      "const          0.1136      0.125      0.906      0.368      -0.136       0.364\n",
      "GSYİH_%QoQ    -0.1049      0.040     -2.634      0.010      -0.184      -0.026\n",
      "==============================================================================\n",
      "Omnibus:                        2.519   Durbin-Watson:                   1.340\n",
      "Prob(Omnibus):                  0.284   Jarque-Bera (JB):                2.161\n",
      "Skew:                           0.416   Prob(JB):                        0.339\n",
      "Kurtosis:                       3.006   Cond. No.                         3.49\n",
      "==============================================================================\n",
      "\n",
      "Notes:\n",
      "[1] Standard Errors assume that the covariance matrix of the errors is correctly specified.\n"
     ]
    }
   ],
   "source": [
    "okuns_law_final_df = okuns_law_cleaned_df.dropna()\n",
    "\n",
    "X = okuns_law_final_df[['GSYİH_%QoQ']]\n",
    "y = okuns_law_final_df['UR_QoQchange']\n",
    "X_with_constant = sm.add_constant(X)\n",
    "\n",
    "model_sm = sm.OLS(y, X_with_constant).fit()\n",
    "\n",
    "model_summary = model_sm.summary()\n",
    "print(model_summary)"
   ]
  },
  {
   "cell_type": "markdown",
   "id": "a591db47",
   "metadata": {},
   "source": [
    "### COMMENTS:\n",
    "#### The model suggests that a one percent increase in the real GDP growth rate is associated with a decrease of about 0.1049 points in the quarterly unemployment rate change. This relationship is found to be statistically meaningful, with a p-value less than 0.05.\n",
    "\n",
    "#### The coefficient of determination, or R-squared value, is 0.087. This value implies that the model accounts for roughly 8.7% of the variability in the quarterly shifts in the unemployment rate, indicating a limited explanatory power for changes in the unemployment rate.\n",
    "\n",
    "#### While the intercept of the model does not show statistical significance (p-value of 0.368), the influence of GDP growth rate on the unemployment rate is statistically significant, underscoring the impactful role of economic expansion on employment levels."
   ]
  },
  {
   "cell_type": "markdown",
   "id": "a1dde0e2",
   "metadata": {},
   "source": [
    "## Q3B-) Check if lagged values of real GDP growth are significant as well."
   ]
  },
  {
   "cell_type": "code",
   "execution_count": 5,
   "id": "2e4935d7",
   "metadata": {},
   "outputs": [
    {
     "name": "stdout",
     "output_type": "stream",
     "text": [
      "                            OLS Regression Results                            \n",
      "==============================================================================\n",
      "Dep. Variable:           UR_QoQchange   R-squared:                       0.337\n",
      "Model:                            OLS   Adj. R-squared:                  0.308\n",
      "Method:                 Least Squares   F-statistic:                     11.68\n",
      "Date:                Tue, 12 Mar 2024   Prob (F-statistic):           2.79e-06\n",
      "Time:                        11:07:28   Log-Likelihood:                -91.579\n",
      "No. Observations:                  73   AIC:                             191.2\n",
      "Df Residuals:                      69   BIC:                             200.3\n",
      "Df Model:                           3                                         \n",
      "Covariance Type:            nonrobust                                         \n",
      "===================================================================================\n",
      "                      coef    std err          t      P>|t|      [0.025      0.975]\n",
      "-----------------------------------------------------------------------------------\n",
      "const               0.5181      0.137      3.777      0.000       0.244       0.792\n",
      "GSYİH_%QoQ         -0.1430      0.036     -3.985      0.000      -0.215      -0.071\n",
      "GSYİH_%QoQ_lag1    -0.1764      0.037     -4.780      0.000      -0.250      -0.103\n",
      "GSYİH_%QoQ_lag2    -0.1028      0.036     -2.865      0.006      -0.174      -0.031\n",
      "==============================================================================\n",
      "Omnibus:                        1.195   Durbin-Watson:                   1.663\n",
      "Prob(Omnibus):                  0.550   Jarque-Bera (JB):                1.050\n",
      "Skew:                          -0.083   Prob(JB):                        0.592\n",
      "Kurtosis:                       2.436   Cond. No.                         4.83\n",
      "==============================================================================\n",
      "\n",
      "Notes:\n",
      "[1] Standard Errors assume that the covariance matrix of the errors is correctly specified.\n"
     ]
    }
   ],
   "source": [
    "okuns_law_final_df['GSYİH_%QoQ_lag1'] = okuns_law_final_df['GSYİH_%QoQ'].shift(1)\n",
    "okuns_law_final_df['GSYİH_%QoQ_lag2'] = okuns_law_final_df['GSYİH_%QoQ'].shift(2)\n",
    "\n",
    "okuns_law_final_df_lagged = okuns_law_final_df.dropna()\n",
    "\n",
    "X_lagged = okuns_law_final_df_lagged[['GSYİH_%QoQ', 'GSYİH_%QoQ_lag1', 'GSYİH_%QoQ_lag2']]\n",
    "y_lagged = okuns_law_final_df_lagged['UR_QoQchange']\n",
    "\n",
    "X_lagged_with_constant = sm.add_constant(X_lagged)\n",
    "\n",
    "model_lagged = sm.OLS(y_lagged, X_lagged_with_constant).fit()\n",
    "\n",
    "model_lagged_summary = model_lagged.summary()\n",
    "print(model_lagged_summary)"
   ]
  },
  {
   "cell_type": "markdown",
   "id": "3d0c88e2",
   "metadata": {},
   "source": [
    "### COMMENTS: \n",
    "#### The analysis reveals that immediate as well as delayed effects of real GDP growth rates significantly influence the quarterly shifts in the unemployment rate. A one percent rise in the GDP growth rate corresponds to a reduction in the unemployment rate change by 0.1430 points in the same quarter, 0.1764 points in the subsequent quarter, and 0.1028 points two quarters later. These findings highlight the prolonged influence of economic growth on unemployment, emphasizing the importance of considering past GDP growth rates in understanding this dynamic.\n",
    "\n",
    "#### With an R-squared value of 33.7%, the model accounts for a significant portion, approximately one-third, of the variability in the quarterly changes in the unemployment rate. This improvement in the model's explanatory capability suggests that incorporating lagged economic indicators enhances the understanding of fluctuations in the unemployment rate."
   ]
  },
  {
   "cell_type": "markdown",
   "id": "8d425fd0",
   "metadata": {},
   "source": [
    "## Q3C-) Check residuals for outliers and correlogram. Use dummies if needed"
   ]
  },
  {
   "cell_type": "code",
   "execution_count": 6,
   "id": "fe8f8d85",
   "metadata": {},
   "outputs": [
    {
     "data": {
      "image/png": "[encoded data removed]",
      "text/plain": [
       "<Figure size 1400x600 with 2 Axes>"
      ]
     },
     "metadata": {},
     "output_type": "display_data"
    }
   ],
   "source": [
    "residuals = model_lagged.resid\n",
    "\n",
    "plt.figure(figsize=(14, 6))\n",
    "\n",
    "plt.subplot(1, 2, 1)\n",
    "sns.histplot(residuals, kde=True)\n",
    "plt.title('Residuals Histogram')\n",
    "\n",
    "plt.subplot(1, 2, 2)\n",
    "sns.boxplot(x=residuals)\n",
    "plt.title('Residuals Boxplot')\n",
    "\n",
    "plt.tight_layout()\n",
    "plt.show()"
   ]
  },
  {
   "cell_type": "code",
   "execution_count": 7,
   "id": "bc8b0a3b",
   "metadata": {},
   "outputs": [
    {
     "data": {
      "text/plain": [
       "<Figure size 1000x600 with 0 Axes>"
      ]
     },
     "metadata": {},
     "output_type": "display_data"
    },
    {
     "data": {
      "image/png": "[encoded data removed]",
      "text/plain": [
       "<Figure size 640x480 with 1 Axes>"
      ]
     },
     "metadata": {},
     "output_type": "display_data"
    }
   ],
   "source": [
    "plt.figure(figsize=(10, 6))\n",
    "plot_acf(residuals, lags=20)\n",
    "plt.title('Residuals Autocorrelation')\n",
    "plt.show()"
   ]
  },
  {
   "cell_type": "markdown",
   "id": "f7a40756",
   "metadata": {},
   "source": [
    "### COMMENTS:\n",
    "#### The chart shows that at specific lags, the bars surpass the confines of the blue shaded region, signaling statistically significant autocorrelation at those points. This observation implies potential gaps in the model's ability to encapsulate all time series dynamics, or it might point to the presence of seasonal influences that have not been fully accounted for."
   ]
  },
  {
   "cell_type": "markdown",
   "id": "badd06d0",
   "metadata": {},
   "source": [
    "## Q4-) Given your preferred model(s), calculate the impact of a 1pp increase in real GDP on unemployment rate\n",
    "\n",
    "## •in the same quarter\n",
    "\n",
    "## •in the long-run."
   ]
  },
  {
   "cell_type": "code",
   "execution_count": 8,
   "id": "c288775e",
   "metadata": {},
   "outputs": [
    {
     "name": "stdout",
     "output_type": "stream",
     "text": [
      "Short term effect: -0.1430\n",
      "Long term effect: -0.4222\n"
     ]
    }
   ],
   "source": [
    "short_term_effect =  model_lagged.params['GSYİH_%QoQ']  \n",
    "long_term_effect =  model_lagged.params['GSYİH_%QoQ'] + model_lagged.params['GSYİH_%QoQ_lag1'] + model_lagged.params['GSYİH_%QoQ_lag2'] \n",
    "\n",
    "print(f'Short term effect: {short_term_effect:.4f}') \n",
    "print(f'Long term effect: {long_term_effect:.4f}')"
   ]
  },
  {
   "cell_type": "markdown",
   "id": "3e2ba84c",
   "metadata": {},
   "source": [
    "### COMMENTS:\n",
    "#### Short-Term Effect (In the Same Quarter)\n",
    "#### The short-term effect can be inferred from the GDP growth rate's coefficient in our analysis (-0.1430), suggesting that a rise in the GDP growth rate by 1 percentage point (pp) will correspond to a decrease in the unemployment rate by about 0.1430 pp within the same quarter.\n",
    "\n",
    "#### Long-Term Effect\n",
    "#### To calculate the long-term effect, we aggregate the coefficients for both the current and the delayed GDP growth rates. The long-term effect reflects the total decrease in the unemployment rate over time due to a 1 pp increase in the GDP growth rate. The specific coefficients from our analysis are:\n",
    "\n",
    "- Coefficient for the current quarter GDP growth rate: -0.1430\n",
    "- Coefficient for the GDP growth rate lagged by one quarter: -0.1764\n",
    "- Coefficient for the GDP growth rate lagged by two quarters: -0.1028\n",
    "\n",
    "#### The effects of a 1 percentage point (pp) increase in the GDP growth rate on the unemployment rate are as follows:\n",
    "\n",
    "- Short-Term Effect (In the Same Quarter): A 1 pp increase in the GDP growth rate will reduce the unemployment rate by approximately 0.143 pp in the same quarter.\n",
    "- Long-Term Effect: The cumulative long-term effect of a 1 pp increase in the GDP growth rate on the unemployment rate is approximately a 0.422 pp decrease."
   ]
  },
  {
   "cell_type": "markdown",
   "id": "e7eb3f2a",
   "metadata": {},
   "source": [
    "## Q5-) Based on your estimates, what would be the annual GDP growth that would be required to keep the unemployment rate unchanged ?"
   ]
  },
  {
   "cell_type": "markdown",
   "id": "5cd5ad76",
   "metadata": {},
   "source": [
    "### COMMENTS:\n",
    "\n",
    "#### In theory, to maintain a constant unemployment rate, an annual GDP contraction of about -0.4222 percentage points would be necessary, according to the extrapolation from our model's long-term effects.\n",
    "\n",
    "#### Yet, this assumption is not feasible in practice, as expecting a negative GDP growth rate to stabilize unemployment contradicts economic logic. This illustrates the shortcomings of applying our model's calculation in this particular case, underscoring the model's complexity. The actual GDP growth rate needed to keep the unemployment rate constant involves a wide array of variables and cannot be straightforwardly linked to economic growth alone. Factors such as governmental economic strategies, labor market conditions, sectoral shifts, and global trade relations significantly influence this dynamic."
   ]
  }
 ],
 "metadata": {
  "kernelspec": {
   "display_name": "Python 3 (ipykernel)",
   "language": "python",
   "name": "python3"
  },
  "language_info": {
   "codemirror_mode": {
    "name": "ipython",
    "version": 3
   },
   "file_extension": ".py",
   "mimetype": "text/x-python",
   "name": "python",
   "nbconvert_exporter": "python",
   "pygments_lexer": "ipython3",
   "version": "3.9.12"
  }
 },
 "nbformat": 4,
 "nbformat_minor": 5
}
